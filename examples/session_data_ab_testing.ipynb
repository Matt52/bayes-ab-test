{
 "cells": [
  {
   "cell_type": "code",
   "execution_count": 1,
   "id": "509246a9-8b41-477a-ac9c-2d77b7836446",
   "metadata": {
    "tags": []
   },
   "outputs": [],
   "source": [
    "from IPython.core.interactiveshell import InteractiveShell\n",
    "InteractiveShell.ast_node_interactivity = \"all\"\n",
    "\n",
    "import numpy as np\n",
    "import pandas as pd\n",
    "from bayesian_testing.experiments import BinaryDataTest, DeltaLognormalDataTest"
   ]
  },
  {
   "cell_type": "code",
   "execution_count": 2,
   "id": "d8f566ec-e3e4-4a14-9146-e99710574cf1",
   "metadata": {
    "tags": []
   },
   "outputs": [],
   "source": [
    "df = pd.read_csv(\"data/session_data.csv\")"
   ]
  },
  {
   "cell_type": "code",
   "execution_count": 3,
   "id": "4d55cc08-62af-42be-a27c-991bea1bbcfd",
   "metadata": {
    "tags": []
   },
   "outputs": [
    {
     "data": {
      "text/plain": [
       "94500"
      ]
     },
     "execution_count": 3,
     "metadata": {},
     "output_type": "execute_result"
    },
    {
     "data": {
      "text/html": [
       "<div>\n",
       "<style scoped>\n",
       "    .dataframe tbody tr th:only-of-type {\n",
       "        vertical-align: middle;\n",
       "    }\n",
       "\n",
       "    .dataframe tbody tr th {\n",
       "        vertical-align: top;\n",
       "    }\n",
       "\n",
       "    .dataframe thead th {\n",
       "        text-align: right;\n",
       "    }\n",
       "</style>\n",
       "<table border=\"1\" class=\"dataframe\">\n",
       "  <thead>\n",
       "    <tr style=\"text-align: right;\">\n",
       "      <th></th>\n",
       "      <th>conversion</th>\n",
       "      <th>date</th>\n",
       "      <th>revenue</th>\n",
       "      <th>source</th>\n",
       "      <th>variant</th>\n",
       "    </tr>\n",
       "  </thead>\n",
       "  <tbody>\n",
       "    <tr>\n",
       "      <th>0</th>\n",
       "      <td>0</td>\n",
       "      <td>2021-08-07</td>\n",
       "      <td>0.000000</td>\n",
       "      <td>desktop</td>\n",
       "      <td>B</td>\n",
       "    </tr>\n",
       "    <tr>\n",
       "      <th>1</th>\n",
       "      <td>1</td>\n",
       "      <td>2021-08-05</td>\n",
       "      <td>7.241015</td>\n",
       "      <td>desktop</td>\n",
       "      <td>C</td>\n",
       "    </tr>\n",
       "    <tr>\n",
       "      <th>2</th>\n",
       "      <td>0</td>\n",
       "      <td>2021-08-06</td>\n",
       "      <td>0.000000</td>\n",
       "      <td>desktop</td>\n",
       "      <td>A</td>\n",
       "    </tr>\n",
       "    <tr>\n",
       "      <th>3</th>\n",
       "      <td>0</td>\n",
       "      <td>2021-08-05</td>\n",
       "      <td>0.000000</td>\n",
       "      <td>desktop</td>\n",
       "      <td>C</td>\n",
       "    </tr>\n",
       "    <tr>\n",
       "      <th>4</th>\n",
       "      <td>0</td>\n",
       "      <td>2021-08-03</td>\n",
       "      <td>0.000000</td>\n",
       "      <td>desktop</td>\n",
       "      <td>A</td>\n",
       "    </tr>\n",
       "  </tbody>\n",
       "</table>\n",
       "</div>"
      ],
      "text/plain": [
       "   conversion        date   revenue   source variant\n",
       "0           0  2021-08-07  0.000000  desktop       B\n",
       "1           1  2021-08-05  7.241015  desktop       C\n",
       "2           0  2021-08-06  0.000000  desktop       A\n",
       "3           0  2021-08-05  0.000000  desktop       C\n",
       "4           0  2021-08-03  0.000000  desktop       A"
      ]
     },
     "execution_count": 3,
     "metadata": {},
     "output_type": "execute_result"
    }
   ],
   "source": [
    "# example session data - each row represent one session\n",
    "len(df)\n",
    "df.head()"
   ]
  },
  {
   "cell_type": "code",
   "execution_count": 4,
   "id": "3b465a33-b51d-49bb-9826-9d7e4e60a997",
   "metadata": {
    "tags": []
   },
   "outputs": [
    {
     "data": {
      "text/html": [
       "<div>\n",
       "<style scoped>\n",
       "    .dataframe tbody tr th:only-of-type {\n",
       "        vertical-align: middle;\n",
       "    }\n",
       "\n",
       "    .dataframe tbody tr th {\n",
       "        vertical-align: top;\n",
       "    }\n",
       "\n",
       "    .dataframe thead th {\n",
       "        text-align: right;\n",
       "    }\n",
       "</style>\n",
       "<table border=\"1\" class=\"dataframe\">\n",
       "  <thead>\n",
       "    <tr style=\"text-align: right;\">\n",
       "      <th></th>\n",
       "      <th>sessions</th>\n",
       "      <th>conversions</th>\n",
       "      <th>revenue</th>\n",
       "      <th>conversion_rate</th>\n",
       "      <th>revenue_per_session</th>\n",
       "      <th>revenue_per_converted_sessions</th>\n",
       "    </tr>\n",
       "    <tr>\n",
       "      <th>variant</th>\n",
       "      <th></th>\n",
       "      <th></th>\n",
       "      <th></th>\n",
       "      <th></th>\n",
       "      <th></th>\n",
       "      <th></th>\n",
       "    </tr>\n",
       "  </thead>\n",
       "  <tbody>\n",
       "    <tr>\n",
       "      <th>A</th>\n",
       "      <td>31500</td>\n",
       "      <td>1580</td>\n",
       "      <td>30830.025613</td>\n",
       "      <td>0.050159</td>\n",
       "      <td>0.978731</td>\n",
       "      <td>19.512674</td>\n",
       "    </tr>\n",
       "    <tr>\n",
       "      <th>B</th>\n",
       "      <td>32000</td>\n",
       "      <td>1700</td>\n",
       "      <td>35203.216888</td>\n",
       "      <td>0.053125</td>\n",
       "      <td>1.100101</td>\n",
       "      <td>20.707775</td>\n",
       "    </tr>\n",
       "    <tr>\n",
       "      <th>C</th>\n",
       "      <td>31000</td>\n",
       "      <td>1550</td>\n",
       "      <td>37259.563364</td>\n",
       "      <td>0.050000</td>\n",
       "      <td>1.201921</td>\n",
       "      <td>24.038428</td>\n",
       "    </tr>\n",
       "  </tbody>\n",
       "</table>\n",
       "</div>"
      ],
      "text/plain": [
       "         sessions  conversions       revenue  conversion_rate  \\\n",
       "variant                                                         \n",
       "A           31500         1580  30830.025613         0.050159   \n",
       "B           32000         1700  35203.216888         0.053125   \n",
       "C           31000         1550  37259.563364         0.050000   \n",
       "\n",
       "         revenue_per_session  revenue_per_converted_sessions  \n",
       "variant                                                       \n",
       "A                   0.978731                       19.512674  \n",
       "B                   1.100101                       20.707775  \n",
       "C                   1.201921                       24.038428  "
      ]
     },
     "execution_count": 4,
     "metadata": {},
     "output_type": "execute_result"
    }
   ],
   "source": [
    "# summary statistics per variant\n",
    "\n",
    "summary = df.groupby('variant')[['variant', 'conversion', 'revenue']]\\\n",
    "            .agg({'variant': 'count', 'conversion': 'sum','revenue': 'sum'})\\\n",
    "            .rename(columns = {'variant': 'sessions', 'conversion': 'conversions'})\n",
    "\n",
    "summary['conversion_rate'] = summary['conversions'] / summary['sessions']\n",
    "summary['revenue_per_session'] = summary['revenue'] / summary['sessions']\n",
    "summary['revenue_per_converted_sessions'] = summary['revenue'] / summary['conversions']\n",
    "\n",
    "summary"
   ]
  },
  {
   "cell_type": "markdown",
   "id": "d4986ee3-11ef-4e0b-ac07-cced31de8086",
   "metadata": {},
   "source": [
    "# Conversion Test"
   ]
  },
  {
   "cell_type": "code",
   "execution_count": 5,
   "id": "62a41343-2708-4956-836b-5cb3d726c784",
   "metadata": {
    "tags": []
   },
   "outputs": [],
   "source": [
    "conv_test = BinaryDataTest()"
   ]
  },
  {
   "cell_type": "code",
   "execution_count": 6,
   "id": "30174edb-8abb-427f-be28-9d7f3e0d19d2",
   "metadata": {
    "tags": []
   },
   "outputs": [
    {
     "data": {
      "text/plain": [
       "array([0, 0, 0, ..., 0, 0, 0])"
      ]
     },
     "execution_count": 6,
     "metadata": {},
     "output_type": "execute_result"
    },
    {
     "data": {
      "text/plain": [
       "1"
      ]
     },
     "execution_count": 6,
     "metadata": {},
     "output_type": "execute_result"
    }
   ],
   "source": [
    "variant_A = df['conversion'][(df.variant == 'A')].values\n",
    "variant_B = df['conversion'][(df.variant == 'B')].values\n",
    "variant_C = df['conversion'][(df.variant == 'C')].values\n",
    "\n",
    "variant_A\n",
    "max(variant_A)"
   ]
  },
  {
   "cell_type": "code",
   "execution_count": 7,
   "id": "c8360b99-e469-4e4b-8a60-ced4e2bf6f53",
   "metadata": {
    "tags": []
   },
   "outputs": [],
   "source": [
    "conv_test.add_variant_data(\"A\", variant_A)"
   ]
  },
  {
   "cell_type": "code",
   "execution_count": 8,
   "id": "8ecf0c2f-6661-4027-afc0-73fb08d893f0",
   "metadata": {
    "tags": []
   },
   "outputs": [],
   "source": [
    "conv_test.add_variant_data(\"B\", variant_B)"
   ]
  },
  {
   "cell_type": "code",
   "execution_count": 9,
   "id": "9df665b5-0983-472b-83fb-3814fd6e95d8",
   "metadata": {
    "tags": []
   },
   "outputs": [],
   "source": [
    "conv_test.add_variant_data_agg(\"C\", len(variant_C), sum(variant_C))"
   ]
  },
  {
   "cell_type": "code",
   "execution_count": 10,
   "id": "b016a4ae-a48c-413a-99a9-a9e6832dee96",
   "metadata": {
    "tags": []
   },
   "outputs": [
    {
     "data": {
      "text/plain": [
       "{'A': {'totals': 31500, 'positives': 1580, 'a_prior': 0.5, 'b_prior': 0.5},\n",
       " 'B': {'totals': 32000, 'positives': 1700, 'a_prior': 0.5, 'b_prior': 0.5},\n",
       " 'C': {'totals': 31000, 'positives': 1550, 'a_prior': 0.5, 'b_prior': 0.5}}"
      ]
     },
     "execution_count": 10,
     "metadata": {},
     "output_type": "execute_result"
    },
    {
     "data": {
      "text/plain": [
       "['A', 'B', 'C']"
      ]
     },
     "execution_count": 10,
     "metadata": {},
     "output_type": "execute_result"
    },
    {
     "data": {
      "text/plain": [
       "[31500, 32000, 31000]"
      ]
     },
     "execution_count": 10,
     "metadata": {},
     "output_type": "execute_result"
    },
    {
     "data": {
      "text/plain": [
       "[1580, 1700, 1550]"
      ]
     },
     "execution_count": 10,
     "metadata": {},
     "output_type": "execute_result"
    }
   ],
   "source": [
    "conv_test.data\n",
    "conv_test.variant_names\n",
    "conv_test.totals\n",
    "conv_test.positives"
   ]
  },
  {
   "cell_type": "code",
   "execution_count": 11,
   "id": "69af1bd6-5317-42af-bb78-1f9eec27f058",
   "metadata": {
    "tags": []
   },
   "outputs": [
    {
     "data": {
      "text/plain": [
       "{'A': 0.04185, 'B': 0.92235, 'C': 0.0358}"
      ]
     },
     "execution_count": 11,
     "metadata": {},
     "output_type": "execute_result"
    }
   ],
   "source": [
    "conv_test.probabs_of_being_best(sim_count = 20000, seed=52)"
   ]
  },
  {
   "cell_type": "code",
   "execution_count": 12,
   "id": "ec654e7d-990d-4cfa-8b1c-324ce054ea2f",
   "metadata": {
    "tags": []
   },
   "outputs": [
    {
     "data": {
      "text/plain": [
       "{'A': 0.0030138, 'B': 6.06e-05, 'C': 0.0031649}"
      ]
     },
     "execution_count": 12,
     "metadata": {},
     "output_type": "execute_result"
    }
   ],
   "source": [
    "conv_test.expected_loss(sim_count = 20000, seed=52)"
   ]
  },
  {
   "cell_type": "code",
   "execution_count": 13,
   "id": "a253d8a4-112b-42ee-b324-8ffa58d0d31e",
   "metadata": {
    "tags": []
   },
   "outputs": [
    {
     "name": "stdout",
     "output_type": "stream",
     "text": [
      "+-----------+----------+-------------+-----------------+------------------+------------------------+-------------------+-----------------+\n",
      "| variant   |   totals |   positives |   positive_rate |   posterior_mean | credible_interval      |   prob_being_best |   expected_loss |\n",
      "+===========+==========+=============+=================+==================+========================+===================+=================+\n",
      "| A         |    31500 |        1580 |         0.05016 |          0.05017 | [0.047736, 0.0525938]  |            0.0408 |       0.0030418 |\n",
      "+-----------+----------+-------------+-----------------+------------------+------------------------+-------------------+-----------------+\n",
      "| B         |    32000 |        1700 |         0.05312 |          0.05314 | [0.0507408, 0.0556564] |            0.928  |       5.23e-05  |\n",
      "+-----------+----------+-------------+-----------------+------------------+------------------------+-------------------+-----------------+\n",
      "| C         |    31000 |        1550 |         0.05    |          0.05001 | [0.0475947, 0.0524928] |            0.0312 |       0.0031909 |\n",
      "+-----------+----------+-------------+-----------------+------------------+------------------------+-------------------+-----------------+\n"
     ]
    }
   ],
   "source": [
    "results = conv_test.evaluate()\n",
    "print(pd.DataFrame(results).to_markdown(tablefmt=\"grid\", index=False))"
   ]
  },
  {
   "cell_type": "code",
   "execution_count": 14,
   "id": "e953f4af-9205-4290-9e62-f0f4fa063935",
   "metadata": {
    "tags": []
   },
   "outputs": [
    {
     "data": {
      "text/plain": [
       "{'A': 0.4594, 'B': 0.00925, 'C': 0.53135}"
      ]
     },
     "execution_count": 14,
     "metadata": {},
     "output_type": "execute_result"
    },
    {
     "data": {
      "text/plain": [
       "{'A': 0.000781, 'B': 0.0037342, 'C': 0.0006299}"
      ]
     },
     "execution_count": 14,
     "metadata": {},
     "output_type": "execute_result"
    },
    {
     "data": {
      "text/plain": [
       "{'A': [0.0477826, 0.0526302],\n",
       " 'B': [0.0506933, 0.0555936],\n",
       " 'C': [0.0476604, 0.0524757]}"
      ]
     },
     "execution_count": 14,
     "metadata": {},
     "output_type": "execute_result"
    }
   ],
   "source": [
    "#reversed_probabilities (for case when \"best = min\")\n",
    "conv_test.probabs_of_being_best(sim_count = 20000, seed=52, min_is_best=True)\n",
    "conv_test.expected_loss(sim_count = 20000, seed=52, min_is_best=True)\n",
    "conv_test.credible_intervals(sim_count = 20000, seed=52, min_is_best=True)"
   ]
  },
  {
   "cell_type": "markdown",
   "id": "6ac79b48-022e-4d82-a56f-193bcad0fe91",
   "metadata": {},
   "source": [
    "# Revenue Test"
   ]
  },
  {
   "cell_type": "code",
   "execution_count": 15,
   "id": "dd8f2d91-504a-47bd-8eee-5daedd0432d9",
   "metadata": {
    "tags": []
   },
   "outputs": [],
   "source": [
    "rev_test = DeltaLognormalDataTest()"
   ]
  },
  {
   "cell_type": "code",
   "execution_count": 16,
   "id": "6be09a5b-fc28-4e66-88c0-4bfec41997db",
   "metadata": {
    "tags": []
   },
   "outputs": [
    {
     "data": {
      "text/plain": [
       "array([0., 0., 0., ..., 0., 0., 0.])"
      ]
     },
     "execution_count": 16,
     "metadata": {},
     "output_type": "execute_result"
    },
    {
     "data": {
      "text/plain": [
       "318.85100060418284"
      ]
     },
     "execution_count": 16,
     "metadata": {},
     "output_type": "execute_result"
    }
   ],
   "source": [
    "variant_A = df['revenue'][(df.variant == 'A')].values\n",
    "variant_B = df['revenue'][(df.variant == 'B')].values\n",
    "variant_C = df['revenue'][(df.variant == 'C')].values\n",
    "\n",
    "variant_A\n",
    "max(variant_A)"
   ]
  },
  {
   "cell_type": "code",
   "execution_count": 17,
   "id": "ea77ff1e-da7a-419d-85a8-bd5dc286a02e",
   "metadata": {
    "tags": []
   },
   "outputs": [],
   "source": [
    "rev_test.add_variant_data(\"A\", variant_A)\n",
    "rev_test.add_variant_data(\"B\", variant_B)"
   ]
  },
  {
   "cell_type": "code",
   "execution_count": 18,
   "id": "0d2ea211-47eb-4545-99c8-8496870ed07d",
   "metadata": {
    "tags": []
   },
   "outputs": [],
   "source": [
    "# adding variant using aggregated data\n",
    "rev_test.add_variant_data_agg(\n",
    "    name=\"C\",\n",
    "    totals=len(variant_C),\n",
    "    positives=sum(x > 0 for x in variant_C),\n",
    "    sum_values=sum(variant_C),\n",
    "    sum_logs=sum([np.log(x) for x in variant_C if x > 0]),\n",
    "    sum_logs_2=sum([np.square(np.log(x)) for x in variant_C if x > 0]),\n",
    ")"
   ]
  },
  {
   "cell_type": "code",
   "execution_count": 19,
   "id": "0260cbf3-d7d4-4cca-a1e9-4b67e228d530",
   "metadata": {
    "tags": []
   },
   "outputs": [
    {
     "data": {
      "text/plain": [
       "['A', 'B', 'C']"
      ]
     },
     "execution_count": 19,
     "metadata": {},
     "output_type": "execute_result"
    },
    {
     "data": {
      "text/plain": [
       "[31500, 32000, 31000]"
      ]
     },
     "execution_count": 19,
     "metadata": {},
     "output_type": "execute_result"
    },
    {
     "data": {
      "text/plain": [
       "[1580, 1700, 1550]"
      ]
     },
     "execution_count": 19,
     "metadata": {},
     "output_type": "execute_result"
    },
    {
     "data": {
      "text/plain": [
       "[30830.02561293968, 35203.216888281, 37259.56336401027]"
      ]
     },
     "execution_count": 19,
     "metadata": {},
     "output_type": "execute_result"
    },
    {
     "data": {
      "text/plain": [
       "[3831.806394737818, 4211.729867679853, 4055.9652348481686]"
      ]
     },
     "execution_count": 19,
     "metadata": {},
     "output_type": "execute_result"
    },
    {
     "data": {
      "text/plain": [
       "[11029.923165846512, 12259.518683969136, 12357.91186291399]"
      ]
     },
     "execution_count": 19,
     "metadata": {},
     "output_type": "execute_result"
    }
   ],
   "source": [
    "# rev_test.data\n",
    "rev_test.variant_names\n",
    "rev_test.totals\n",
    "rev_test.positives\n",
    "rev_test.sum_values\n",
    "rev_test.sum_logs\n",
    "rev_test.sum_logs_2"
   ]
  },
  {
   "cell_type": "code",
   "execution_count": 20,
   "id": "d5b4a760-0750-4f27-9316-cb7ab8ff6a1d",
   "metadata": {
    "tags": []
   },
   "outputs": [
    {
     "data": {
      "text/plain": [
       "{'A': 0.0002, 'B': 0.03315, 'C': 0.96665}"
      ]
     },
     "execution_count": 20,
     "metadata": {},
     "output_type": "execute_result"
    }
   ],
   "source": [
    "rev_test.probabs_of_being_best()"
   ]
  },
  {
   "cell_type": "code",
   "execution_count": 21,
   "id": "40dbcf56-05fa-4a58-bc15-853b08a7125e",
   "metadata": {
    "tags": []
   },
   "outputs": [
    {
     "data": {
      "text/plain": [
       "{'A': 0.2206517, 'B': 0.1204936, 'C': 0.0008737}"
      ]
     },
     "execution_count": 21,
     "metadata": {},
     "output_type": "execute_result"
    }
   ],
   "source": [
    "rev_test.expected_loss()"
   ]
  },
  {
   "cell_type": "code",
   "execution_count": 22,
   "id": "c6d7cc7d-fb1d-4645-8582-d3ff7e339752",
   "metadata": {
    "tags": []
   },
   "outputs": [
    {
     "data": {
      "text/plain": [
       "{'A': [0.9083588, 1.0643646],\n",
       " 'B': [1.0042736, 1.1693412],\n",
       " 'C': [1.1076003, 1.306942]}"
      ]
     },
     "execution_count": 22,
     "metadata": {},
     "output_type": "execute_result"
    }
   ],
   "source": [
    "rev_test.credible_intervals()"
   ]
  },
  {
   "cell_type": "code",
   "execution_count": 23,
   "id": "14380bf8-d85b-41b5-a854-98eea12af845",
   "metadata": {
    "tags": []
   },
   "outputs": [
    {
     "name": "stdout",
     "output_type": "stream",
     "text": [
      "+-----------+----------+-------------+--------------+--------------+-----------------------+------------------+------------------------+-------------------+-----------------+\n",
      "| variant   |   totals |   positives |   sum_values |   avg_values |   avg_positive_values |   posterior_mean | credible_interval      |   prob_being_best |   expected_loss |\n",
      "+===========+==========+=============+==============+==============+=======================+==================+========================+===================+=================+\n",
      "| A         |    31500 |        1580 |      30830   |      0.97873 |               19.5127 |          0.98278 | [0.9081132, 1.0651011] |           0.00015 |        0.219287 |\n",
      "+-----------+----------+-------------+--------------+--------------+-----------------------+------------------+------------------------+-------------------+-----------------+\n",
      "| B         |    32000 |        1700 |      35203.2 |      1.1001  |               20.7078 |          1.08266 | [1.0045567, 1.1690544] |           0.03275 |        0.119955 |\n",
      "+-----------+----------+-------------+--------------+--------------+-----------------------+------------------+------------------------+-------------------+-----------------+\n",
      "| C         |    31000 |        1550 |      37259.6 |      1.20192 |               24.0384 |          1.20208 | [1.1097285, 1.305098]  |           0.9671  |        0.000788 |\n",
      "+-----------+----------+-------------+--------------+--------------+-----------------------+------------------+------------------------+-------------------+-----------------+\n"
     ]
    }
   ],
   "source": [
    "results = rev_test.evaluate()\n",
    "print(pd.DataFrame(results).to_markdown(tablefmt=\"grid\", index=False))"
   ]
  },
  {
   "cell_type": "markdown",
   "id": "853dbc07-2659-4c12-af68-101ef8748f1d",
   "metadata": {},
   "source": [
    "# Probabilities in time"
   ]
  },
  {
   "cell_type": "code",
   "execution_count": 24,
   "id": "df26b082-0e3f-469d-882f-c391e4aeabad",
   "metadata": {
    "tags": []
   },
   "outputs": [],
   "source": [
    "# using time data we can generate probabilities of being best over time (cumulatively)\n",
    "\n",
    "dates = np.sort(df.date.unique())\n",
    "pbbs_conv_in_time = []\n",
    "pbbs_rev_in_time = []\n",
    "for i in dates:\n",
    "    variant_A_conv = df[(df.variant == 'A') & (df.date <= i)]['conversion'].values\n",
    "    variant_B_conv = df[(df.variant == 'B') & (df.date <= i)]['conversion'].values\n",
    "    variant_C_conv = df[(df.variant == 'C') & (df.date <= i)]['conversion'].values\n",
    "    \n",
    "    variant_A_rev = df[(df.variant == 'A') & (df.date <= i)]['revenue'].values\n",
    "    variant_B_rev = df[(df.variant == 'B') & (df.date <= i)]['revenue'].values\n",
    "    variant_C_rev = df[(df.variant == 'C') & (df.date <= i)]['revenue'].values\n",
    "\n",
    "    conv_test = BinaryDataTest()\n",
    "    conv_test.add_variant_data(\"A\", variant_A_conv)\n",
    "    conv_test.add_variant_data(\"B\", variant_B_conv)\n",
    "    conv_test.add_variant_data(\"C\", variant_C_conv)\n",
    "    \n",
    "    rev_test = DeltaLognormalDataTest()\n",
    "    rev_test.add_variant_data(\"A\", variant_A_rev)\n",
    "    rev_test.add_variant_data(\"B\", variant_B_rev)\n",
    "    rev_test.add_variant_data(\"C\", variant_C_rev)\n",
    "    \n",
    "    pbbs_conv_in_time.append({i: conv_test.probabs_of_being_best()})\n",
    "    pbbs_rev_in_time.append({i: rev_test.probabs_of_being_best()})"
   ]
  },
  {
   "cell_type": "code",
   "execution_count": 25,
   "id": "a8c922d6-1283-4034-b574-ea9f5cb80cc5",
   "metadata": {
    "tags": []
   },
   "outputs": [
    {
     "data": {
      "text/plain": [
       "[{'2021-08-01': {'A': 0.70065, 'B': 0.17965, 'C': 0.1197}},\n",
       " {'2021-08-02': {'A': 0.37235, 'B': 0.2207, 'C': 0.40695}},\n",
       " {'2021-08-03': {'A': 0.1893, 'B': 0.65485, 'C': 0.15585}},\n",
       " {'2021-08-04': {'A': 0.16005, 'B': 0.7431, 'C': 0.09685}},\n",
       " {'2021-08-05': {'A': 0.03215, 'B': 0.869, 'C': 0.09885}},\n",
       " {'2021-08-06': {'A': 0.01375, 'B': 0.9705, 'C': 0.01575}},\n",
       " {'2021-08-07': {'A': 0.0419, 'B': 0.9227, 'C': 0.0354}}]"
      ]
     },
     "execution_count": 25,
     "metadata": {},
     "output_type": "execute_result"
    }
   ],
   "source": [
    "pbbs_conv_in_time"
   ]
  },
  {
   "cell_type": "code",
   "execution_count": 26,
   "id": "50e20fcd-c2b7-49af-be61-c27775706090",
   "metadata": {
    "tags": []
   },
   "outputs": [
    {
     "data": {
      "text/plain": [
       "[{'2021-08-01': {'A': 0.0209, 'B': 0.27195, 'C': 0.70715}},\n",
       " {'2021-08-02': {'A': 0.0584, 'B': 0.2102, 'C': 0.7314}},\n",
       " {'2021-08-03': {'A': 0.0648, 'B': 0.2057, 'C': 0.7295}},\n",
       " {'2021-08-04': {'A': 0.02095, 'B': 0.1761, 'C': 0.80295}},\n",
       " {'2021-08-05': {'A': 0.00065, 'B': 0.04725, 'C': 0.9521}},\n",
       " {'2021-08-06': {'A': 0.0004, 'B': 0.05005, 'C': 0.94955}},\n",
       " {'2021-08-07': {'A': 0.0002, 'B': 0.03445, 'C': 0.96535}}]"
      ]
     },
     "execution_count": 26,
     "metadata": {},
     "output_type": "execute_result"
    }
   ],
   "source": [
    "pbbs_rev_in_time"
   ]
  },
  {
   "cell_type": "code",
   "execution_count": null,
   "id": "6312709b-35f9-4064-a337-f683fc246cea",
   "metadata": {},
   "outputs": [],
   "source": []
  }
 ],
 "metadata": {
  "kernelspec": {
   "display_name": "Python 3 (ipykernel)",
   "language": "python",
   "name": "python3"
  },
  "language_info": {
   "codemirror_mode": {
    "name": "ipython",
    "version": 3
   },
   "file_extension": ".py",
   "mimetype": "text/x-python",
   "name": "python",
   "nbconvert_exporter": "python",
   "pygments_lexer": "ipython3",
   "version": "3.8.17"
  }
 },
 "nbformat": 4,
 "nbformat_minor": 5
}
