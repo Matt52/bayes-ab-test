{
 "cells": [
  {
   "cell_type": "code",
   "execution_count": 1,
   "id": "c5f8cedc-94d6-4805-90d4-466d4de6b293",
   "metadata": {},
   "outputs": [],
   "source": [
    "from IPython.core.interactiveshell import InteractiveShell\n",
    "InteractiveShell.ast_node_interactivity = \"all\"\n",
    "\n",
    "import numpy as np\n",
    "import pandas as pd\n",
    "from bayesian_testing.experiments import PoissonDataTest"
   ]
  },
  {
   "cell_type": "code",
   "execution_count": 2,
   "id": "8e57546e-4b90-4c89-8668-aafe4aff6485",
   "metadata": {},
   "outputs": [
    {
     "data": {
      "text/plain": [
       "Generator(PCG64) at 0x1283A4BA0"
      ]
     },
     "execution_count": 2,
     "metadata": {},
     "output_type": "execute_result"
    }
   ],
   "source": [
    "np.random.default_rng(52)"
   ]
  },
  {
   "cell_type": "code",
   "execution_count": 3,
   "id": "1cc3f939-43a0-4d19-af63-9ae632861dee",
   "metadata": {},
   "outputs": [],
   "source": [
    "# goals scored - more is better (duh...)\n",
    "psg_goals_for = [5, 5, 7, 1, 3, 3, 1, 1, 2, 0, 1, 3, 4, 2, 5]\n",
    "city_goals_for = [2, 4, 3, 4, 6, 1, 3, 6, 4, 0, 3, 1, 2, 1]\n",
    "bayern_goals_for = [6, 2, 7, 1, 1, 2, 0, 4, 2, 5, 2, 6, 3, 6, 2]\n",
    "\n",
    "\n",
    "# goals received - so less is better\n",
    "psg_goals_against = [0, 2, 1, 1, 0, 0, 0, 0, 1, 0, 0, 0, 3, 1, 0]\n",
    "city_goals_against = [0, 0, 3, 2, 0, 1, 0, 3, 0, 1, 1, 0, 1, 2]\n",
    "bayern_goals_against = [1, 0, 0, 1, 1, 2, 1, 0, 2, 0, 0, 2, 2, 1, 0]"
   ]
  },
  {
   "cell_type": "code",
   "execution_count": 4,
   "id": "fe532f01-6c91-4462-9213-e33379be1f9e",
   "metadata": {},
   "outputs": [],
   "source": [
    "# Poisson test for \"goals for\"\n",
    "poisson_test_gf = PoissonDataTest()\n",
    "poisson_test_gf.add_variant_data('psg', psg_goals_for)\n",
    "# adding \"city\" with effective sample size 10 and the prior mean 2 (20/10):\n",
    "poisson_test_gf.add_variant_data('city', city_goals_for, a_prior=20, b_prior=10)\n",
    "# adding \"bayern\" with aggregated data instead of list of all observations\n",
    "poisson_test_gf.add_variant_data_agg('bayern', totals=len(bayern_goals_for), sum_values=sum(bayern_goals_for))\n",
    "\n",
    "\n",
    "# Poisson test for \"goals against\"\n",
    "poisson_test_ga = PoissonDataTest()\n",
    "poisson_test_ga.add_variant_data('psg', psg_goals_against)\n",
    "poisson_test_ga.add_variant_data('city', city_goals_against)\n",
    "poisson_test_ga.add_variant_data('bayern', bayern_goals_against)"
   ]
  },
  {
   "cell_type": "code",
   "execution_count": 5,
   "id": "93cd6353-01c6-4873-a62e-9816932679fe",
   "metadata": {},
   "outputs": [
    {
     "name": "stdout",
     "output_type": "stream",
     "text": [
      "+-----------+----------+--------------+--------------------+------------------+-------------------+-----------------+\n",
      "| variant   |   totals |   sum_values |   observed_average |   posterior_mean |   prob_being_best |   expected_loss |\n",
      "+===========+==========+==============+====================+==================+===================+=================+\n",
      "| psg       |       15 |           43 |            2.86667 |          2.8543  |           0.24375 |        0.509445 |\n",
      "+-----------+----------+--------------+--------------------+------------------+-------------------+-----------------+\n",
      "| city      |       14 |           40 |            2.85714 |          2.5     |           0.05095 |        0.852689 |\n",
      "+-----------+----------+--------------+--------------------+------------------+-------------------+-----------------+\n",
      "| bayern    |       15 |           49 |            3.26667 |          3.25166 |           0.7053  |        0.111539 |\n",
      "+-----------+----------+--------------+--------------------+------------------+-------------------+-----------------+\n"
     ]
    }
   ],
   "source": [
    "# poisson_test_gf.probabs_of_being_best(sim_count = 20000, seed=52)\n",
    "# poisson_test_gf.expected_loss(sim_count = 20000, seed=52)\n",
    "results_gf = poisson_test_gf.evaluate()\n",
    "print(pd.DataFrame(results_gf).to_markdown(tablefmt=\"grid\", index=False))"
   ]
  },
  {
   "cell_type": "code",
   "execution_count": 6,
   "id": "39220217-6553-4f88-b537-064ade561996",
   "metadata": {},
   "outputs": [
    {
     "name": "stdout",
     "output_type": "stream",
     "text": [
      "+-----------+----------+--------------+--------------------+------------------+-------------------+-----------------+\n",
      "| variant   |   totals |   sum_values |   observed_average |   posterior_mean |   prob_being_best |   expected_loss |\n",
      "+===========+==========+==============+====================+==================+===================+=================+\n",
      "| psg       |       15 |            9 |            0.6     |          0.60265 |           0.7599  |       0.0411113 |\n",
      "+-----------+----------+--------------+--------------------+------------------+-------------------+-----------------+\n",
      "| city      |       14 |           14 |            1       |          1       |           0.07465 |       0.439372  |\n",
      "+-----------+----------+--------------+--------------------+------------------+-------------------+-----------------+\n",
      "| bayern    |       15 |           13 |            0.86667 |          0.86755 |           0.16545 |       0.30863   |\n",
      "+-----------+----------+--------------+--------------------+------------------+-------------------+-----------------+\n"
     ]
    }
   ],
   "source": [
    "# poisson_test_ga.probabs_of_being_best(sim_count = 20000, seed=52, min_is_best=True)\n",
    "# poisson_test_ga.expected_loss(sim_count = 20000, seed=52, min_is_best=True)\n",
    "results_ga = poisson_test_ga.evaluate(min_is_best=True)\n",
    "print(pd.DataFrame(results_ga).to_markdown(tablefmt=\"grid\", index=False))"
   ]
  },
  {
   "cell_type": "code",
   "execution_count": null,
   "id": "d36d68d3-d119-49a4-b757-016da25f6f28",
   "metadata": {},
   "outputs": [],
   "source": []
  }
 ],
 "metadata": {
  "kernelspec": {
   "display_name": "Python 3 (ipykernel)",
   "language": "python",
   "name": "python3"
  },
  "language_info": {
   "codemirror_mode": {
    "name": "ipython",
    "version": 3
   },
   "file_extension": ".py",
   "mimetype": "text/x-python",
   "name": "python",
   "nbconvert_exporter": "python",
   "pygments_lexer": "ipython3",
   "version": "3.8.5"
  }
 },
 "nbformat": 4,
 "nbformat_minor": 5
}
