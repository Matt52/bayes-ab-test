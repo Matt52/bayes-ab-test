{
 "cells": [
  {
   "cell_type": "code",
   "execution_count": 1,
   "id": "509246a9-8b41-477a-ac9c-2d77b7836446",
   "metadata": {},
   "outputs": [],
   "source": [
    "from IPython.core.interactiveshell import InteractiveShell\n",
    "InteractiveShell.ast_node_interactivity = \"all\"\n",
    "\n",
    "import numpy as np\n",
    "import pandas as pd\n",
    "from bayes_ab_test.experiments import BinaryDataTest"
   ]
  },
  {
   "cell_type": "code",
   "execution_count": 2,
   "id": "d8f566ec-e3e4-4a14-9146-e99710574cf1",
   "metadata": {},
   "outputs": [],
   "source": [
    "df = pd.read_csv(\"data/session_data.csv\")"
   ]
  },
  {
   "cell_type": "code",
   "execution_count": 3,
   "id": "4d55cc08-62af-42be-a27c-991bea1bbcfd",
   "metadata": {},
   "outputs": [
    {
     "data": {
      "text/plain": [
       "94500"
      ]
     },
     "execution_count": 3,
     "metadata": {},
     "output_type": "execute_result"
    },
    {
     "data": {
      "text/html": [
       "<div>\n",
       "<style scoped>\n",
       "    .dataframe tbody tr th:only-of-type {\n",
       "        vertical-align: middle;\n",
       "    }\n",
       "\n",
       "    .dataframe tbody tr th {\n",
       "        vertical-align: top;\n",
       "    }\n",
       "\n",
       "    .dataframe thead th {\n",
       "        text-align: right;\n",
       "    }\n",
       "</style>\n",
       "<table border=\"1\" class=\"dataframe\">\n",
       "  <thead>\n",
       "    <tr style=\"text-align: right;\">\n",
       "      <th></th>\n",
       "      <th>conversion</th>\n",
       "      <th>date</th>\n",
       "      <th>revenue</th>\n",
       "      <th>source</th>\n",
       "      <th>variant</th>\n",
       "    </tr>\n",
       "  </thead>\n",
       "  <tbody>\n",
       "    <tr>\n",
       "      <th>0</th>\n",
       "      <td>0</td>\n",
       "      <td>2021-08-07</td>\n",
       "      <td>0.000000</td>\n",
       "      <td>desktop</td>\n",
       "      <td>B</td>\n",
       "    </tr>\n",
       "    <tr>\n",
       "      <th>1</th>\n",
       "      <td>1</td>\n",
       "      <td>2021-08-05</td>\n",
       "      <td>7.241015</td>\n",
       "      <td>desktop</td>\n",
       "      <td>C</td>\n",
       "    </tr>\n",
       "    <tr>\n",
       "      <th>2</th>\n",
       "      <td>0</td>\n",
       "      <td>2021-08-06</td>\n",
       "      <td>0.000000</td>\n",
       "      <td>desktop</td>\n",
       "      <td>A</td>\n",
       "    </tr>\n",
       "    <tr>\n",
       "      <th>3</th>\n",
       "      <td>0</td>\n",
       "      <td>2021-08-05</td>\n",
       "      <td>0.000000</td>\n",
       "      <td>desktop</td>\n",
       "      <td>C</td>\n",
       "    </tr>\n",
       "    <tr>\n",
       "      <th>4</th>\n",
       "      <td>0</td>\n",
       "      <td>2021-08-03</td>\n",
       "      <td>0.000000</td>\n",
       "      <td>desktop</td>\n",
       "      <td>A</td>\n",
       "    </tr>\n",
       "  </tbody>\n",
       "</table>\n",
       "</div>"
      ],
      "text/plain": [
       "   conversion        date   revenue   source variant\n",
       "0           0  2021-08-07  0.000000  desktop       B\n",
       "1           1  2021-08-05  7.241015  desktop       C\n",
       "2           0  2021-08-06  0.000000  desktop       A\n",
       "3           0  2021-08-05  0.000000  desktop       C\n",
       "4           0  2021-08-03  0.000000  desktop       A"
      ]
     },
     "execution_count": 3,
     "metadata": {},
     "output_type": "execute_result"
    }
   ],
   "source": [
    "# example session data - each row represent one session\n",
    "len(df)\n",
    "df.head()"
   ]
  },
  {
   "cell_type": "code",
   "execution_count": 4,
   "id": "3b465a33-b51d-49bb-9826-9d7e4e60a997",
   "metadata": {},
   "outputs": [
    {
     "data": {
      "text/html": [
       "<div>\n",
       "<style scoped>\n",
       "    .dataframe tbody tr th:only-of-type {\n",
       "        vertical-align: middle;\n",
       "    }\n",
       "\n",
       "    .dataframe tbody tr th {\n",
       "        vertical-align: top;\n",
       "    }\n",
       "\n",
       "    .dataframe thead th {\n",
       "        text-align: right;\n",
       "    }\n",
       "</style>\n",
       "<table border=\"1\" class=\"dataframe\">\n",
       "  <thead>\n",
       "    <tr style=\"text-align: right;\">\n",
       "      <th></th>\n",
       "      <th>sessions</th>\n",
       "      <th>conversions</th>\n",
       "      <th>revenue</th>\n",
       "      <th>conversion_rate</th>\n",
       "      <th>revenue_per_session</th>\n",
       "      <th>revenue_per_converted_sessions</th>\n",
       "    </tr>\n",
       "    <tr>\n",
       "      <th>variant</th>\n",
       "      <th></th>\n",
       "      <th></th>\n",
       "      <th></th>\n",
       "      <th></th>\n",
       "      <th></th>\n",
       "      <th></th>\n",
       "    </tr>\n",
       "  </thead>\n",
       "  <tbody>\n",
       "    <tr>\n",
       "      <th>A</th>\n",
       "      <td>31500</td>\n",
       "      <td>1580</td>\n",
       "      <td>30830.025613</td>\n",
       "      <td>0.050159</td>\n",
       "      <td>0.978731</td>\n",
       "      <td>19.512674</td>\n",
       "    </tr>\n",
       "    <tr>\n",
       "      <th>B</th>\n",
       "      <td>32000</td>\n",
       "      <td>1700</td>\n",
       "      <td>35203.216888</td>\n",
       "      <td>0.053125</td>\n",
       "      <td>1.100101</td>\n",
       "      <td>20.707775</td>\n",
       "    </tr>\n",
       "    <tr>\n",
       "      <th>C</th>\n",
       "      <td>31000</td>\n",
       "      <td>1550</td>\n",
       "      <td>37259.563364</td>\n",
       "      <td>0.050000</td>\n",
       "      <td>1.201921</td>\n",
       "      <td>24.038428</td>\n",
       "    </tr>\n",
       "  </tbody>\n",
       "</table>\n",
       "</div>"
      ],
      "text/plain": [
       "         sessions  conversions       revenue  conversion_rate  \\\n",
       "variant                                                         \n",
       "A           31500         1580  30830.025613         0.050159   \n",
       "B           32000         1700  35203.216888         0.053125   \n",
       "C           31000         1550  37259.563364         0.050000   \n",
       "\n",
       "         revenue_per_session  revenue_per_converted_sessions  \n",
       "variant                                                       \n",
       "A                   0.978731                       19.512674  \n",
       "B                   1.100101                       20.707775  \n",
       "C                   1.201921                       24.038428  "
      ]
     },
     "execution_count": 4,
     "metadata": {},
     "output_type": "execute_result"
    }
   ],
   "source": [
    "# summary statistics per variant\n",
    "\n",
    "summary = df.groupby('variant')[['variant', 'conversion', 'revenue']]\\\n",
    "            .agg({'variant': 'count', 'conversion': 'sum','revenue': 'sum'})\\\n",
    "            .rename(columns = {'variant': 'sessions', 'conversion': 'conversions'})\n",
    "\n",
    "summary['conversion_rate'] = summary['conversions'] / summary['sessions']\n",
    "summary['revenue_per_session'] = summary['revenue'] / summary['sessions']\n",
    "summary['revenue_per_converted_sessions'] = summary['revenue'] / summary['conversions']\n",
    "\n",
    "summary"
   ]
  },
  {
   "cell_type": "code",
   "execution_count": 5,
   "id": "c9894095-1f1e-4a0c-9681-e1132b85bc32",
   "metadata": {},
   "outputs": [
    {
     "data": {
      "text/plain": [
       "[31500, 32000, 31000]"
      ]
     },
     "execution_count": 5,
     "metadata": {},
     "output_type": "execute_result"
    },
    {
     "data": {
      "text/plain": [
       "[1580, 1700, 1550]"
      ]
     },
     "execution_count": 5,
     "metadata": {},
     "output_type": "execute_result"
    },
    {
     "data": {
      "text/plain": [
       "[3831.806394737816, 4211.72986767986, 4055.965234848171]"
      ]
     },
     "execution_count": 5,
     "metadata": {},
     "output_type": "execute_result"
    },
    {
     "data": {
      "text/plain": [
       "[11029.923165846496, 12259.51868396913, 12357.911862914]"
      ]
     },
     "execution_count": 5,
     "metadata": {},
     "output_type": "execute_result"
    }
   ],
   "source": [
    "variant_A = df['revenue'][(df.variant == 'A')].values\n",
    "variant_B = df['revenue'][(df.variant == 'B')].values\n",
    "variant_C = df['revenue'][(df.variant == 'C')].values\n",
    "\n",
    "sessions = [\n",
    "    variant_A.size,\n",
    "    variant_B.size,\n",
    "    variant_C.size\n",
    "]\n",
    "\n",
    "conversions = [\n",
    "    sum(variant_A > 0),\n",
    "    sum(variant_B > 0),\n",
    "    sum(variant_C > 0)\n",
    "]\n",
    "\n",
    "sum_log_revenue = [\n",
    "    np.log(variant_A[variant_A > 0]).sum(),\n",
    "    np.log(variant_B[variant_B > 0]).sum(),\n",
    "    np.log(variant_C[variant_C > 0]).sum()\n",
    "]\n",
    "\n",
    "sum_log_2_revenue = [\n",
    "    np.square(np.log(variant_A[variant_A > 0])).sum(),\n",
    "    np.square(np.log(variant_B[variant_B > 0])).sum(),\n",
    "    np.square(np.log(variant_C[variant_C > 0])).sum()\n",
    "]\n",
    "\n",
    "sessions\n",
    "conversions\n",
    "sum_log_revenue\n",
    "sum_log_2_revenue"
   ]
  },
  {
   "cell_type": "code",
   "execution_count": 7,
   "id": "62a41343-2708-4956-836b-5cb3d726c784",
   "metadata": {},
   "outputs": [],
   "source": [
    "conv_test = BinaryDataTest()"
   ]
  },
  {
   "cell_type": "code",
   "execution_count": 8,
   "id": "c8360b99-e469-4e4b-8a60-ced4e2bf6f53",
   "metadata": {},
   "outputs": [],
   "source": [
    "conv_test.add_variant_data(\"B\", df['conversion'][(df.variant == 'B')].values, replace=False)"
   ]
  },
  {
   "cell_type": "code",
   "execution_count": 9,
   "id": "8ecf0c2f-6661-4027-afc0-73fb08d893f0",
   "metadata": {},
   "outputs": [],
   "source": [
    "conv_test.add_variant_data(\"A\", df['conversion'][(df.variant == 'A')].values, replace=False)"
   ]
  },
  {
   "cell_type": "code",
   "execution_count": 10,
   "id": "9df665b5-0983-472b-83fb-3814fd6e95d8",
   "metadata": {},
   "outputs": [],
   "source": [
    "conv_test.add_variant_data_agg(\"C\", 31000, 1500)"
   ]
  },
  {
   "cell_type": "code",
   "execution_count": 11,
   "id": "b016a4ae-a48c-413a-99a9-a9e6832dee96",
   "metadata": {},
   "outputs": [
    {
     "data": {
      "text/plain": [
       "{'B': {'totals': 32000, 'positives': 1700, 'a_priors': 0.5, 'b_priors': 0.5},\n",
       " 'A': {'totals': 31500, 'positives': 1580, 'a_priors': 0.5, 'b_priors': 0.5},\n",
       " 'C': {'totals': 31000, 'positives': 1500, 'a_priors': 0.5, 'b_priors': 0.5}}"
      ]
     },
     "execution_count": 11,
     "metadata": {},
     "output_type": "execute_result"
    },
    {
     "data": {
      "text/plain": [
       "['B', 'A', 'C']"
      ]
     },
     "execution_count": 11,
     "metadata": {},
     "output_type": "execute_result"
    },
    {
     "data": {
      "text/plain": [
       "[32000, 31500, 31000]"
      ]
     },
     "execution_count": 11,
     "metadata": {},
     "output_type": "execute_result"
    },
    {
     "ename": "AttributeError",
     "evalue": "'BinaryDataTest' object has no attribute 'successes'",
     "output_type": "error",
     "traceback": [
      "\u001b[0;31m---------------------------------------------------------------------------\u001b[0m",
      "\u001b[0;31mAttributeError\u001b[0m                            Traceback (most recent call last)",
      "\u001b[0;32m/var/folders/98/ynjp5rr17snd67p678htgpd00000gn/T/ipykernel_10454/2797277257.py\u001b[0m in \u001b[0;36m<module>\u001b[0;34m\u001b[0m\n\u001b[1;32m      2\u001b[0m \u001b[0mconv_test\u001b[0m\u001b[0;34m.\u001b[0m\u001b[0mvariant_names\u001b[0m\u001b[0;34m\u001b[0m\u001b[0;34m\u001b[0m\u001b[0m\n\u001b[1;32m      3\u001b[0m \u001b[0mconv_test\u001b[0m\u001b[0;34m.\u001b[0m\u001b[0mtotals\u001b[0m\u001b[0;34m\u001b[0m\u001b[0;34m\u001b[0m\u001b[0m\n\u001b[0;32m----> 4\u001b[0;31m \u001b[0mconv_test\u001b[0m\u001b[0;34m.\u001b[0m\u001b[0msuccesses\u001b[0m\u001b[0;34m\u001b[0m\u001b[0;34m\u001b[0m\u001b[0m\n\u001b[0m",
      "\u001b[0;31mAttributeError\u001b[0m: 'BinaryDataTest' object has no attribute 'successes'"
     ]
    }
   ],
   "source": [
    "conv_test.data\n",
    "conv_test.variant_names\n",
    "conv_test.totals\n",
    "conv_test.positives"
   ]
  },
  {
   "cell_type": "code",
   "execution_count": 11,
   "id": "69af1bd6-5317-42af-bb78-1f9eec27f058",
   "metadata": {},
   "outputs": [
    {
     "data": {
      "text/plain": [
       "{'B': 0.9534, 'A': 0.0436, 'C': 0.003}"
      ]
     },
     "execution_count": 11,
     "metadata": {},
     "output_type": "execute_result"
    }
   ],
   "source": [
    "conv_test.probabs_of_being_best(sim_count = 20000, seed=52)"
   ]
  },
  {
   "cell_type": "code",
   "execution_count": 12,
   "id": "a253d8a4-112b-42ee-b324-8ffa58d0d31e",
   "metadata": {},
   "outputs": [
    {
     "data": {
      "text/plain": [
       "[{'variant': 'B',\n",
       "  'totals': 32000,\n",
       "  'successes': 1700,\n",
       "  'conv. rate': 0.05312,\n",
       "  'prob. being best': 0.9517},\n",
       " {'variant': 'A',\n",
       "  'totals': 31500,\n",
       "  'successes': 1580,\n",
       "  'conv. rate': 0.05016,\n",
       "  'prob. being best': 0.0457},\n",
       " {'variant': 'C',\n",
       "  'totals': 31000,\n",
       "  'successes': 1500,\n",
       "  'conv. rate': 0.04839,\n",
       "  'prob. being best': 0.0026}]"
      ]
     },
     "execution_count": 12,
     "metadata": {},
     "output_type": "execute_result"
    }
   ],
   "source": [
    "conv_test.evaluate()"
   ]
  },
  {
   "cell_type": "code",
   "execution_count": null,
   "id": "18ad7e57-bc9b-46c2-8807-5d25beeabed1",
   "metadata": {},
   "outputs": [],
   "source": []
  }
 ],
 "metadata": {
  "kernelspec": {
   "display_name": "Python 3 (ipykernel)",
   "language": "python",
   "name": "python3"
  },
  "language_info": {
   "codemirror_mode": {
    "name": "ipython",
    "version": 3
   },
   "file_extension": ".py",
   "mimetype": "text/x-python",
   "name": "python",
   "nbconvert_exporter": "python",
   "pygments_lexer": "ipython3",
   "version": "3.8.5"
  }
 },
 "nbformat": 4,
 "nbformat_minor": 5
}
