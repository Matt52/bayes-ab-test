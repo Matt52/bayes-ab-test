{
 "cells": [
  {
   "cell_type": "code",
   "execution_count": 1,
   "id": "ffef50bb-d334-438c-b170-4d70c2d6d19e",
   "metadata": {
    "tags": []
   },
   "outputs": [],
   "source": [
    "from IPython.core.interactiveshell import InteractiveShell\n",
    "InteractiveShell.ast_node_interactivity = \"all\"\n",
    "\n",
    "import numpy as np\n",
    "import pandas as pd\n",
    "from bayesian_testing.experiments import ExponentialDataTest"
   ]
  },
  {
   "cell_type": "code",
   "execution_count": 2,
   "id": "133748f0-26cd-4647-9cf3-e0b7646a51af",
   "metadata": {
    "tags": []
   },
   "outputs": [
    {
     "data": {
      "text/plain": [
       "Generator(PCG64) at 0x1303692E0"
      ]
     },
     "execution_count": 2,
     "metadata": {},
     "output_type": "execute_result"
    }
   ],
   "source": [
    "# optionally stabilize the random seed:\n",
    "np.random.default_rng(100)"
   ]
  },
  {
   "cell_type": "code",
   "execution_count": 3,
   "id": "98cbecdc-69a9-48f4-a95e-d5c71644f00c",
   "metadata": {
    "tags": []
   },
   "outputs": [],
   "source": [
    "# waiting times for 3 different variants, each with many observations\n",
    "# generated using exponential distributions with defined scales (expected values)\n",
    "waiting_times_a = np.random.exponential(scale=10, size=200)\n",
    "waiting_times_b = np.random.exponential(scale=11, size=210)\n",
    "waiting_times_c = np.random.exponential(scale=11, size=220)"
   ]
  },
  {
   "cell_type": "code",
   "execution_count": 4,
   "id": "6510ba7f-d854-4a88-b063-eb44fc59cf1b",
   "metadata": {
    "tags": []
   },
   "outputs": [
    {
     "data": {
      "text/plain": [
       "10.510316247641828"
      ]
     },
     "execution_count": 4,
     "metadata": {},
     "output_type": "execute_result"
    },
    {
     "data": {
      "text/plain": [
       "10.663571099086635"
      ]
     },
     "execution_count": 4,
     "metadata": {},
     "output_type": "execute_result"
    },
    {
     "data": {
      "text/plain": [
       "10.481449699163589"
      ]
     },
     "execution_count": 4,
     "metadata": {},
     "output_type": "execute_result"
    }
   ],
   "source": [
    "np.mean(waiting_times_a)\n",
    "np.mean(waiting_times_b)\n",
    "np.mean(waiting_times_c)"
   ]
  },
  {
   "cell_type": "code",
   "execution_count": 5,
   "id": "fde94e6d-a05b-4863-8c85-002e623ca2fb",
   "metadata": {
    "tags": []
   },
   "outputs": [],
   "source": [
    "# Exponential A/B/C test\n",
    "exponential_test = ExponentialDataTest()\n",
    "exponential_test.add_variant_data('A', waiting_times_a)\n",
    "exponential_test.add_variant_data('B', waiting_times_b)\n",
    "exponential_test.add_variant_data('C', waiting_times_c)"
   ]
  },
  {
   "cell_type": "code",
   "execution_count": 6,
   "id": "86c03a05-d091-4de5-a223-27efdfbe0615",
   "metadata": {
    "tags": []
   },
   "outputs": [
    {
     "name": "stdout",
     "output_type": "stream",
     "text": [
      "+-----------+----------+--------------+--------------------+------------------+-------------------+-----------------+\n",
      "| variant   |   totals |   sum_values |   observed_average |   posterior_mean |   prob_being_best |   expected_loss |\n",
      "+===========+==========+==============+====================+==================+===================+=================+\n",
      "| A         |      200 |      2102.06 |            10.5103 |          10.5056 |           0.35785 |        0.546233 |\n",
      "+-----------+----------+--------------+--------------------+------------------+-------------------+-----------------+\n",
      "| B         |      210 |      2239.35 |            10.6636 |          10.659  |           0.26985 |        0.704224 |\n",
      "+-----------+----------+--------------+--------------------+------------------+-------------------+-----------------+\n",
      "| C         |      220 |      2305.92 |            10.4815 |          10.4771 |           0.3723  |        0.520154 |\n",
      "+-----------+----------+--------------+--------------------+------------------+-------------------+-----------------+\n"
     ]
    }
   ],
   "source": [
    "# evaluate test (using min_is_best=True as a lower waiting time is better)\n",
    "results = exponential_test.evaluate(min_is_best=True)\n",
    "print(pd.DataFrame(results).to_markdown(tablefmt=\"grid\", index=False))"
   ]
  },
  {
   "cell_type": "code",
   "execution_count": 7,
   "id": "5b794f98-3177-4d83-8090-f037d31b4fce",
   "metadata": {
    "tags": []
   },
   "outputs": [
    {
     "data": {
      "text/plain": [
       "[{'variant': 'A',\n",
       "  'totals': 200,\n",
       "  'sum_values': 1884.1834280655532,\n",
       "  'observed_average': 9.42092,\n",
       "  'posterior_mean': 9.41671,\n",
       "  'prob_being_best': 0.89785,\n",
       "  'expected_loss': 0.0395505},\n",
       " {'variant': 'B',\n",
       "  'totals': 210,\n",
       "  'sum_values': 2350.0347684977546,\n",
       "  'observed_average': 11.19064,\n",
       "  'posterior_mean': 11.18579,\n",
       "  'prob_being_best': 0.03405,\n",
       "  'expected_loss': 1.8078076},\n",
       " {'variant': 'C',\n",
       "  'totals': 220,\n",
       "  'sum_values': 2380.6494096803926,\n",
       "  'observed_average': 10.82113,\n",
       "  'posterior_mean': 10.81667,\n",
       "  'prob_being_best': 0.0681,\n",
       "  'expected_loss': 1.4408026}]"
      ]
     },
     "execution_count": 7,
     "metadata": {},
     "output_type": "execute_result"
    }
   ],
   "source": [
    "import numpy as np\n",
    "from bayesian_testing.experiments import ExponentialDataTest\n",
    "\n",
    "# waiting times for 3 different variants, each with many observations\n",
    "# generated using exponential distributions with defined scales (expected values)\n",
    "waiting_times_a = np.random.exponential(scale=10, size=200)\n",
    "waiting_times_b = np.random.exponential(scale=11, size=210)\n",
    "waiting_times_c = np.random.exponential(scale=11, size=220)\n",
    "\n",
    "# Exponential A/B/C test\n",
    "test = ExponentialDataTest()\n",
    "# adding variants using the observations\n",
    "test.add_variant_data('A', waiting_times_a)\n",
    "test.add_variant_data('B', waiting_times_b)\n",
    "test.add_variant_data('C', waiting_times_c)\n",
    "\n",
    "# alternatively, add variants using aggregated data:\n",
    "# test.add_variant_data_agg('A', len(waiting_times_a), sum(waiting_times_a))\n",
    "\n",
    "# evaluate test (since lower waiting time is better, we explicitly set the min_is_best to True)\n",
    "results = test.evaluate(sim_count=20000, min_is_best=True)\n",
    "results # print(pd.DataFrame(results).to_markdown(tablefmt=\"grid\", index=False))"
   ]
  },
  {
   "cell_type": "code",
   "execution_count": 8,
   "id": "79ed7eb0-22c9-4eff-8c7c-a313146e8782",
   "metadata": {
    "tags": []
   },
   "outputs": [
    {
     "name": "stdout",
     "output_type": "stream",
     "text": [
      "+-----------+----------+--------------+--------------------+------------------+-------------------+-----------------+\n",
      "| variant   |   totals |   sum_values |   observed_average |   posterior_mean |   prob_being_best |   expected_loss |\n",
      "+===========+==========+==============+====================+==================+===================+=================+\n",
      "| A         |      200 |      1884.18 |            9.42092 |          9.41671 |           0.89785 |       0.0395505 |\n",
      "+-----------+----------+--------------+--------------------+------------------+-------------------+-----------------+\n",
      "| B         |      210 |      2350.03 |           11.1906  |         11.1858  |           0.03405 |       1.80781   |\n",
      "+-----------+----------+--------------+--------------------+------------------+-------------------+-----------------+\n",
      "| C         |      220 |      2380.65 |           10.8211  |         10.8167  |           0.0681  |       1.4408    |\n",
      "+-----------+----------+--------------+--------------------+------------------+-------------------+-----------------+\n"
     ]
    }
   ],
   "source": [
    "print(pd.DataFrame(results).to_markdown(tablefmt=\"grid\", index=False))"
   ]
  },
  {
   "cell_type": "code",
   "execution_count": null,
   "id": "5cbe6fe3-d6c8-422a-ab62-ffd87b345459",
   "metadata": {},
   "outputs": [],
   "source": []
  }
 ],
 "metadata": {
  "kernelspec": {
   "display_name": "Python 3 (ipykernel)",
   "language": "python",
   "name": "python3"
  },
  "language_info": {
   "codemirror_mode": {
    "name": "ipython",
    "version": 3
   },
   "file_extension": ".py",
   "mimetype": "text/x-python",
   "name": "python",
   "nbconvert_exporter": "python",
   "pygments_lexer": "ipython3",
   "version": "3.8.17"
  }
 },
 "nbformat": 4,
 "nbformat_minor": 5
}
