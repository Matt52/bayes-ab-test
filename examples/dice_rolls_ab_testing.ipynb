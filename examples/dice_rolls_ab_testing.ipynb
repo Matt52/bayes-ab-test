{
 "cells": [
  {
   "cell_type": "code",
   "execution_count": 1,
   "id": "45ce22be-8ae0-4b0e-bce5-9e9aab6f105f",
   "metadata": {},
   "outputs": [],
   "source": [
    "from IPython.core.interactiveshell import InteractiveShell\n",
    "InteractiveShell.ast_node_interactivity = \"all\"\n",
    "\n",
    "import numpy as np\n",
    "import pandas as pd\n",
    "from bayesian_testing.experiments import DiscreteDataTest"
   ]
  },
  {
   "cell_type": "code",
   "execution_count": 2,
   "id": "f888f299-69a0-4f3c-bd57-af3a59bedba0",
   "metadata": {},
   "outputs": [
    {
     "data": {
      "text/plain": [
       "Generator(PCG64) at 0x12CA11BA0"
      ]
     },
     "execution_count": 2,
     "metadata": {},
     "output_type": "execute_result"
    }
   ],
   "source": [
    "np.random.default_rng(52)\n",
    "\n",
    "values = [1,2,3,4,5,6]"
   ]
  },
  {
   "cell_type": "code",
   "execution_count": 3,
   "id": "24a15d66-d928-432c-beb3-e25e3be10cc0",
   "metadata": {},
   "outputs": [],
   "source": [
    "die_A_rolls = list(np.random.choice(values, 1000, p=[1/6, 1/6, 1/6, 1/6, 1/6, 1/6]))\n",
    "die_B_rolls = list(np.random.choice(values, 1200, p=[0.2, 0.2, 0.1, 0.1, 0.2, 0.2]))\n",
    "die_C_rolls = list(np.random.choice(values, 500, p=[0.2, 0.1, 0.1, 0.2, 0.2, 0.2]))"
   ]
  },
  {
   "cell_type": "code",
   "execution_count": 4,
   "id": "35989040-af25-4129-9678-de04c0397c32",
   "metadata": {},
   "outputs": [],
   "source": [
    "discrete_test = DiscreteDataTest(values)"
   ]
  },
  {
   "cell_type": "code",
   "execution_count": 5,
   "id": "e902885d-7382-42c8-af7f-1d82fba06bb4",
   "metadata": {},
   "outputs": [],
   "source": [
    "discrete_test.add_variant_data('A', die_A_rolls)\n",
    "discrete_test.add_variant_data('B', die_B_rolls)\n",
    "discrete_test.add_variant_data('C', die_C_rolls)"
   ]
  },
  {
   "cell_type": "code",
   "execution_count": 6,
   "id": "a3ee97a1-d48c-407b-b13c-5cfb11e6591f",
   "metadata": {},
   "outputs": [
    {
     "data": {
      "text/plain": [
       "{'A': {'concentration': [170.0, 166.0, 178.0, 178.0, 149.0, 159.0],\n",
       "  'prior': [1, 1, 1, 1, 1, 1]},\n",
       " 'B': {'concentration': [218.0, 233.0, 143.0, 115.0, 250.0, 241.0],\n",
       "  'prior': [1, 1, 1, 1, 1, 1]},\n",
       " 'C': {'concentration': [101.0, 62.0, 45.0, 92.0, 109.0, 91.0],\n",
       "  'prior': [1, 1, 1, 1, 1, 1]}}"
      ]
     },
     "execution_count": 6,
     "metadata": {},
     "output_type": "execute_result"
    }
   ],
   "source": [
    "discrete_test.data"
   ]
  },
  {
   "cell_type": "code",
   "execution_count": 7,
   "id": "23484578-dc84-4325-9aa0-7a1498ee161b",
   "metadata": {},
   "outputs": [
    {
     "data": {
      "text/plain": [
       "{'A': 0.0067, 'B': 0.19615, 'C': 0.79715}"
      ]
     },
     "execution_count": 7,
     "metadata": {},
     "output_type": "execute_result"
    }
   ],
   "source": [
    "discrete_test.probabs_of_being_best(sim_count = 20000, seed=52)"
   ]
  },
  {
   "cell_type": "code",
   "execution_count": 8,
   "id": "7001814b-7705-420a-813d-b65393e68288",
   "metadata": {},
   "outputs": [
    {
     "data": {
      "text/plain": [
       "{'A': 0.1997818, 'B': 0.0901675, 'C': 0.0108337}"
      ]
     },
     "execution_count": 8,
     "metadata": {},
     "output_type": "execute_result"
    }
   ],
   "source": [
    "discrete_test.expected_loss(sim_count = 20000, seed=52)"
   ]
  },
  {
   "cell_type": "code",
   "execution_count": 9,
   "id": "86cb2b3b-cc93-489f-ae1d-7becac229c33",
   "metadata": {},
   "outputs": [
    {
     "data": {
      "text/plain": [
       "[{'variant': 'A',\n",
       "  'concentration': {1: 170.0,\n",
       "   2: 166.0,\n",
       "   3: 178.0,\n",
       "   4: 178.0,\n",
       "   5: 149.0,\n",
       "   6: 159.0},\n",
       "  'average_value': 3.447,\n",
       "  'prob_being_best': 0.00665,\n",
       "  'expected_loss': 0.1997475},\n",
       " {'variant': 'B',\n",
       "  'concentration': {1: 218.0,\n",
       "   2: 233.0,\n",
       "   3: 143.0,\n",
       "   4: 115.0,\n",
       "   5: 250.0,\n",
       "   6: 241.0},\n",
       "  'average_value': 3.5575,\n",
       "  'prob_being_best': 0.2006,\n",
       "  'expected_loss': 0.089552},\n",
       " {'variant': 'C',\n",
       "  'concentration': {1: 101.0, 2: 62.0, 3: 45.0, 4: 92.0, 5: 109.0, 6: 91.0},\n",
       "  'average_value': 3.638,\n",
       "  'prob_being_best': 0.79275,\n",
       "  'expected_loss': 0.0110407}]"
      ]
     },
     "execution_count": 9,
     "metadata": {},
     "output_type": "execute_result"
    }
   ],
   "source": [
    "discrete_test.evaluate()"
   ]
  },
  {
   "cell_type": "code",
   "execution_count": 10,
   "id": "616e35ba-26d3-4d10-ad65-4dc37e5771a6",
   "metadata": {},
   "outputs": [
    {
     "data": {
      "text/plain": [
       "{'A': 0.9103, 'B': 0.07015, 'C': 0.01955}"
      ]
     },
     "execution_count": 10,
     "metadata": {},
     "output_type": "execute_result"
    },
    {
     "data": {
      "text/plain": [
       "{'A': 0.0030647, 'B': 0.1126791, 'C': 0.1920129}"
      ]
     },
     "execution_count": 10,
     "metadata": {},
     "output_type": "execute_result"
    },
    {
     "data": {
      "text/plain": [
       "[{'variant': 'A',\n",
       "  'concentration': {1: 170.0,\n",
       "   2: 166.0,\n",
       "   3: 178.0,\n",
       "   4: 178.0,\n",
       "   5: 149.0,\n",
       "   6: 159.0},\n",
       "  'average_value': 3.447,\n",
       "  'prob_being_best': 0.90975,\n",
       "  'expected_loss': 0.0031867},\n",
       " {'variant': 'B',\n",
       "  'concentration': {1: 218.0,\n",
       "   2: 233.0,\n",
       "   3: 143.0,\n",
       "   4: 115.0,\n",
       "   5: 250.0,\n",
       "   6: 241.0},\n",
       "  'average_value': 3.5575,\n",
       "  'prob_being_best': 0.06745,\n",
       "  'expected_loss': 0.1126494},\n",
       " {'variant': 'C',\n",
       "  'concentration': {1: 101.0, 2: 62.0, 3: 45.0, 4: 92.0, 5: 109.0, 6: 91.0},\n",
       "  'average_value': 3.638,\n",
       "  'prob_being_best': 0.0228,\n",
       "  'expected_loss': 0.1916001}]"
      ]
     },
     "execution_count": 10,
     "metadata": {},
     "output_type": "execute_result"
    }
   ],
   "source": [
    "# reversed test (where minimum is best)\n",
    "discrete_test.probabs_of_being_best(sim_count = 20000, seed=52, min_is_best=True)\n",
    "discrete_test.expected_loss(sim_count = 20000, seed=52, min_is_best=True)\n",
    "discrete_test.evaluate(min_is_best=True)"
   ]
  },
  {
   "cell_type": "code",
   "execution_count": null,
   "id": "19b56eb8-143e-47aa-9a22-a2473f91cfa1",
   "metadata": {},
   "outputs": [],
   "source": []
  }
 ],
 "metadata": {
  "kernelspec": {
   "display_name": "Python 3 (ipykernel)",
   "language": "python",
   "name": "python3"
  },
  "language_info": {
   "codemirror_mode": {
    "name": "ipython",
    "version": 3
   },
   "file_extension": ".py",
   "mimetype": "text/x-python",
   "name": "python",
   "nbconvert_exporter": "python",
   "pygments_lexer": "ipython3",
   "version": "3.8.5"
  }
 },
 "nbformat": 4,
 "nbformat_minor": 5
}
