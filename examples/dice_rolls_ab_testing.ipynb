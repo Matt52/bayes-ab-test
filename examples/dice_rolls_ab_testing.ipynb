{
 "cells": [
  {
   "cell_type": "code",
   "execution_count": 1,
   "id": "45ce22be-8ae0-4b0e-bce5-9e9aab6f105f",
   "metadata": {},
   "outputs": [],
   "source": [
    "from IPython.core.interactiveshell import InteractiveShell\n",
    "InteractiveShell.ast_node_interactivity = \"all\"\n",
    "\n",
    "import numpy as np\n",
    "import pandas as pd\n",
    "from bayesian_testing.experiments import DiscreteDataTest"
   ]
  },
  {
   "cell_type": "code",
   "execution_count": 2,
   "id": "f888f299-69a0-4f3c-bd57-af3a59bedba0",
   "metadata": {},
   "outputs": [
    {
     "data": {
      "text/plain": [
       "Generator(PCG64) at 0x129F88820"
      ]
     },
     "execution_count": 2,
     "metadata": {},
     "output_type": "execute_result"
    }
   ],
   "source": [
    "np.random.default_rng(52)\n",
    "\n",
    "values = [1,2,3,4,5,6]"
   ]
  },
  {
   "cell_type": "code",
   "execution_count": 3,
   "id": "24a15d66-d928-432c-beb3-e25e3be10cc0",
   "metadata": {},
   "outputs": [],
   "source": [
    "die_A_rolls = list(np.random.choice(values, 1000, p=[1/6, 1/6, 1/6, 1/6, 1/6, 1/6]))\n",
    "die_B_rolls = list(np.random.choice(values, 1200, p=[0.2, 0.2, 0.1, 0.1, 0.2, 0.2]))\n",
    "die_C_rolls = list(np.random.choice(values, 500, p=[0.2, 0.1, 0.1, 0.2, 0.2, 0.2]))"
   ]
  },
  {
   "cell_type": "code",
   "execution_count": 4,
   "id": "35989040-af25-4129-9678-de04c0397c32",
   "metadata": {},
   "outputs": [],
   "source": [
    "discrete_test = DiscreteDataTest(values)"
   ]
  },
  {
   "cell_type": "code",
   "execution_count": 5,
   "id": "e902885d-7382-42c8-af7f-1d82fba06bb4",
   "metadata": {},
   "outputs": [],
   "source": [
    "discrete_test.add_variant_data('A', die_A_rolls)\n",
    "discrete_test.add_variant_data('B', die_B_rolls)\n",
    "discrete_test.add_variant_data('C', die_C_rolls)"
   ]
  },
  {
   "cell_type": "code",
   "execution_count": 6,
   "id": "a3ee97a1-d48c-407b-b13c-5cfb11e6591f",
   "metadata": {},
   "outputs": [
    {
     "data": {
      "text/plain": [
       "{'A': {'concentration': [162.0, 167.0, 149.0, 175.0, 183.0, 164.0],\n",
       "  'prior': [1, 1, 1, 1, 1, 1]},\n",
       " 'B': {'concentration': [252.0, 253.0, 112.0, 123.0, 221.0, 239.0],\n",
       "  'prior': [1, 1, 1, 1, 1, 1]},\n",
       " 'C': {'concentration': [115.0, 46.0, 49.0, 98.0, 91.0, 101.0],\n",
       "  'prior': [1, 1, 1, 1, 1, 1]}}"
      ]
     },
     "execution_count": 6,
     "metadata": {},
     "output_type": "execute_result"
    }
   ],
   "source": [
    "discrete_test.data"
   ]
  },
  {
   "cell_type": "code",
   "execution_count": 7,
   "id": "23484578-dc84-4325-9aa0-7a1498ee161b",
   "metadata": {},
   "outputs": [
    {
     "data": {
      "text/plain": [
       "{'A': 0.22965, 'B': 0.01025, 'C': 0.7601}"
      ]
     },
     "execution_count": 7,
     "metadata": {},
     "output_type": "execute_result"
    }
   ],
   "source": [
    "discrete_test.probabs_of_being_best(sim_count = 20000, seed=52)"
   ]
  },
  {
   "cell_type": "code",
   "execution_count": 8,
   "id": "86cb2b3b-cc93-489f-ae1d-7becac229c33",
   "metadata": {},
   "outputs": [
    {
     "data": {
      "text/plain": [
       "[{'variant': 'A',\n",
       "  'concentration': {1: 162.0,\n",
       "   2: 167.0,\n",
       "   3: 149.0,\n",
       "   4: 175.0,\n",
       "   5: 183.0,\n",
       "   6: 164.0},\n",
       "  'average_value': 3.542,\n",
       "  'prob_being_best': 0.22675},\n",
       " {'variant': 'B',\n",
       "  'concentration': {1: 252.0,\n",
       "   2: 253.0,\n",
       "   3: 112.0,\n",
       "   4: 123.0,\n",
       "   5: 221.0,\n",
       "   6: 239.0},\n",
       "  'average_value': 3.4375,\n",
       "  'prob_being_best': 0.0094},\n",
       " {'variant': 'C',\n",
       "  'concentration': {1: 115.0, 2: 46.0, 3: 49.0, 4: 98.0, 5: 91.0, 6: 101.0},\n",
       "  'average_value': 3.614,\n",
       "  'prob_being_best': 0.76385}]"
      ]
     },
     "execution_count": 8,
     "metadata": {},
     "output_type": "execute_result"
    }
   ],
   "source": [
    "discrete_test.evaluate()"
   ]
  }
 ],
 "metadata": {
  "kernelspec": {
   "display_name": "Python 3 (ipykernel)",
   "language": "python",
   "name": "python3"
  },
  "language_info": {
   "codemirror_mode": {
    "name": "ipython",
    "version": 3
   },
   "file_extension": ".py",
   "mimetype": "text/x-python",
   "name": "python",
   "nbconvert_exporter": "python",
   "pygments_lexer": "ipython3",
   "version": "3.8.5"
  }
 },
 "nbformat": 4,
 "nbformat_minor": 5
}
