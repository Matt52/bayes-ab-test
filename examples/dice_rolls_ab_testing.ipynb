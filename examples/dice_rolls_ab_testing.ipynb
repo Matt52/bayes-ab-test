{
 "cells": [
  {
   "cell_type": "code",
   "execution_count": 1,
   "id": "45ce22be-8ae0-4b0e-bce5-9e9aab6f105f",
   "metadata": {},
   "outputs": [],
   "source": [
    "from IPython.core.interactiveshell import InteractiveShell\n",
    "InteractiveShell.ast_node_interactivity = \"all\"\n",
    "\n",
    "import numpy as np\n",
    "import pandas as pd\n",
    "from bayesian_testing.experiments import DiscreteDataTest"
   ]
  },
  {
   "cell_type": "code",
   "execution_count": 2,
   "id": "f888f299-69a0-4f3c-bd57-af3a59bedba0",
   "metadata": {},
   "outputs": [
    {
     "data": {
      "text/plain": [
       "Generator(PCG64) at 0x12A84CBA0"
      ]
     },
     "execution_count": 2,
     "metadata": {},
     "output_type": "execute_result"
    }
   ],
   "source": [
    "np.random.default_rng(52)\n",
    "\n",
    "values = [1,2,3,4,5,6]"
   ]
  },
  {
   "cell_type": "code",
   "execution_count": 3,
   "id": "24a15d66-d928-432c-beb3-e25e3be10cc0",
   "metadata": {},
   "outputs": [],
   "source": [
    "die_A_rolls = list(np.random.choice(values, 1000, p=[1/6, 1/6, 1/6, 1/6, 1/6, 1/6]))\n",
    "die_B_rolls = list(np.random.choice(values, 1200, p=[0.2, 0.2, 0.1, 0.1, 0.2, 0.2]))\n",
    "die_C_rolls = list(np.random.choice(values, 500, p=[0.2, 0.1, 0.1, 0.2, 0.2, 0.2]))"
   ]
  },
  {
   "cell_type": "code",
   "execution_count": 4,
   "id": "35989040-af25-4129-9678-de04c0397c32",
   "metadata": {},
   "outputs": [],
   "source": [
    "discrete_test = DiscreteDataTest(values)"
   ]
  },
  {
   "cell_type": "code",
   "execution_count": 5,
   "id": "e902885d-7382-42c8-af7f-1d82fba06bb4",
   "metadata": {},
   "outputs": [],
   "source": [
    "discrete_test.add_variant_data('A', die_A_rolls)\n",
    "discrete_test.add_variant_data('B', die_B_rolls)\n",
    "discrete_test.add_variant_data('C', die_C_rolls)"
   ]
  },
  {
   "cell_type": "code",
   "execution_count": 6,
   "id": "a3ee97a1-d48c-407b-b13c-5cfb11e6591f",
   "metadata": {},
   "outputs": [
    {
     "data": {
      "text/plain": [
       "{'A': {'concentration': [179.0, 158.0, 174.0, 180.0, 154.0, 155.0],\n",
       "  'prior': [1, 1, 1, 1, 1, 1]},\n",
       " 'B': {'concentration': [230.0, 263.0, 119.0, 119.0, 245.0, 224.0],\n",
       "  'prior': [1, 1, 1, 1, 1, 1]},\n",
       " 'C': {'concentration': [124.0, 43.0, 48.0, 102.0, 74.0, 109.0],\n",
       "  'prior': [1, 1, 1, 1, 1, 1]}}"
      ]
     },
     "execution_count": 6,
     "metadata": {},
     "output_type": "execute_result"
    }
   ],
   "source": [
    "discrete_test.data"
   ]
  },
  {
   "cell_type": "code",
   "execution_count": 7,
   "id": "23484578-dc84-4325-9aa0-7a1498ee161b",
   "metadata": {},
   "outputs": [
    {
     "data": {
      "text/plain": [
       "{'A': 0.05845, 'B': 0.1185, 'C': 0.82305}"
      ]
     },
     "execution_count": 7,
     "metadata": {},
     "output_type": "execute_result"
    }
   ],
   "source": [
    "discrete_test.probabs_of_being_best(sim_count = 20000, seed=52)"
   ]
  },
  {
   "cell_type": "code",
   "execution_count": 8,
   "id": "7001814b-7705-420a-813d-b65393e68288",
   "metadata": {},
   "outputs": [
    {
     "data": {
      "text/plain": [
       "{'A': 0.1433081, 'B': 0.1150933, 'C': 0.009188}"
      ]
     },
     "execution_count": 8,
     "metadata": {},
     "output_type": "execute_result"
    }
   ],
   "source": [
    "discrete_test.expected_loss(sim_count = 20000, seed=52)"
   ]
  },
  {
   "cell_type": "code",
   "execution_count": 9,
   "id": "86cb2b3b-cc93-489f-ae1d-7becac229c33",
   "metadata": {},
   "outputs": [
    {
     "name": "stdout",
     "output_type": "stream",
     "text": [
      "+-----------+--------------------------------------------------------------+-----------------+-------------------+-----------------+\n",
      "| variant   | concentration                                                |   average_value |   prob_being_best |   expected_loss |\n",
      "+===========+==============================================================+=================+===================+=================+\n",
      "| A         | {1: 179.0, 2: 158.0, 3: 174.0, 4: 180.0, 5: 154.0, 6: 155.0} |           3.437 |           0.05865 |       0.141573  |\n",
      "+-----------+--------------------------------------------------------------+-----------------+-------------------+-----------------+\n",
      "| B         | {1: 230.0, 2: 263.0, 3: 119.0, 4: 119.0, 5: 245.0, 6: 224.0} |           3.465 |           0.12065 |       0.114587  |\n",
      "+-----------+--------------------------------------------------------------+-----------------+-------------------+-----------------+\n",
      "| C         | {1: 124.0, 2: 43.0, 3: 48.0, 4: 102.0, 5: 74.0, 6: 109.0}    |           3.572 |           0.8207  |       0.0092546 |\n",
      "+-----------+--------------------------------------------------------------+-----------------+-------------------+-----------------+\n"
     ]
    }
   ],
   "source": [
    "results = discrete_test.evaluate()\n",
    "print(pd.DataFrame(results).to_markdown(tablefmt=\"grid\", index=False))"
   ]
  },
  {
   "cell_type": "code",
   "execution_count": 10,
   "id": "616e35ba-26d3-4d10-ad65-4dc37e5771a6",
   "metadata": {},
   "outputs": [
    {
     "data": {
      "text/plain": [
       "{'A': 0.6135, 'B': 0.33145, 'C': 0.05505}"
      ]
     },
     "execution_count": 10,
     "metadata": {},
     "output_type": "execute_result"
    },
    {
     "data": {
      "text/plain": [
       "{'A': 0.0202774, 'B': 0.0484923, 'C': 0.1543976}"
      ]
     },
     "execution_count": 10,
     "metadata": {},
     "output_type": "execute_result"
    },
    {
     "name": "stdout",
     "output_type": "stream",
     "text": [
      "+-----------+--------------------------------------------------------------+-----------------+-------------------+-----------------+\n",
      "| variant   | concentration                                                |   average_value |   prob_being_best |   expected_loss |\n",
      "+===========+==============================================================+=================+===================+=================+\n",
      "| A         | {1: 179.0, 2: 158.0, 3: 174.0, 4: 180.0, 5: 154.0, 6: 155.0} |           3.437 |            0.6119 |       0.0203846 |\n",
      "+-----------+--------------------------------------------------------------+-----------------+-------------------+-----------------+\n",
      "| B         | {1: 230.0, 2: 263.0, 3: 119.0, 4: 119.0, 5: 245.0, 6: 224.0} |           3.465 |            0.3346 |       0.048674  |\n",
      "+-----------+--------------------------------------------------------------+-----------------+-------------------+-----------------+\n",
      "| C         | {1: 124.0, 2: 43.0, 3: 48.0, 4: 102.0, 5: 74.0, 6: 109.0}    |           3.572 |            0.0535 |       0.154126  |\n",
      "+-----------+--------------------------------------------------------------+-----------------+-------------------+-----------------+\n"
     ]
    }
   ],
   "source": [
    "# reversed test (where minimum is best)\n",
    "discrete_test.probabs_of_being_best(sim_count = 20000, seed=52, min_is_best=True)\n",
    "discrete_test.expected_loss(sim_count = 20000, seed=52, min_is_best=True)\n",
    "results_min = discrete_test.evaluate(min_is_best=True)\n",
    "print(pd.DataFrame(results_min).to_markdown(tablefmt=\"grid\", index=False))"
   ]
  },
  {
   "cell_type": "code",
   "execution_count": null,
   "id": "19b56eb8-143e-47aa-9a22-a2473f91cfa1",
   "metadata": {},
   "outputs": [],
   "source": []
  }
 ],
 "metadata": {
  "kernelspec": {
   "display_name": "Python 3 (ipykernel)",
   "language": "python",
   "name": "python3"
  },
  "language_info": {
   "codemirror_mode": {
    "name": "ipython",
    "version": 3
   },
   "file_extension": ".py",
   "mimetype": "text/x-python",
   "name": "python",
   "nbconvert_exporter": "python",
   "pygments_lexer": "ipython3",
   "version": "3.8.5"
  }
 },
 "nbformat": 4,
 "nbformat_minor": 5
}
