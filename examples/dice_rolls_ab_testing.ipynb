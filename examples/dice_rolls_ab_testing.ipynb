{
 "cells": [
  {
   "cell_type": "code",
   "execution_count": 1,
   "id": "45ce22be-8ae0-4b0e-bce5-9e9aab6f105f",
   "metadata": {
    "tags": []
   },
   "outputs": [],
   "source": [
    "from IPython.core.interactiveshell import InteractiveShell\n",
    "InteractiveShell.ast_node_interactivity = \"all\"\n",
    "\n",
    "import numpy as np\n",
    "import pandas as pd\n",
    "from bayesian_testing.experiments import DiscreteDataTest"
   ]
  },
  {
   "cell_type": "code",
   "execution_count": 2,
   "id": "f888f299-69a0-4f3c-bd57-af3a59bedba0",
   "metadata": {
    "tags": []
   },
   "outputs": [
    {
     "data": {
      "text/plain": [
       "Generator(PCG64) at 0x132F469E0"
      ]
     },
     "execution_count": 2,
     "metadata": {},
     "output_type": "execute_result"
    }
   ],
   "source": [
    "np.random.default_rng(52)\n",
    "\n",
    "values = [1,2,3,4,5,6]"
   ]
  },
  {
   "cell_type": "code",
   "execution_count": 3,
   "id": "24a15d66-d928-432c-beb3-e25e3be10cc0",
   "metadata": {
    "tags": []
   },
   "outputs": [],
   "source": [
    "die_A_rolls = list(np.random.choice(values, 1000, p=[1/6, 1/6, 1/6, 1/6, 1/6, 1/6]))\n",
    "die_B_rolls = list(np.random.choice(values, 1200, p=[0.2, 0.2, 0.1, 0.1, 0.2, 0.2]))\n",
    "die_C_rolls = list(np.random.choice(values, 500, p=[0.2, 0.1, 0.1, 0.2, 0.2, 0.2]))"
   ]
  },
  {
   "cell_type": "code",
   "execution_count": 4,
   "id": "35989040-af25-4129-9678-de04c0397c32",
   "metadata": {
    "tags": []
   },
   "outputs": [],
   "source": [
    "discrete_test = DiscreteDataTest(values)"
   ]
  },
  {
   "cell_type": "code",
   "execution_count": 5,
   "id": "e902885d-7382-42c8-af7f-1d82fba06bb4",
   "metadata": {
    "tags": []
   },
   "outputs": [],
   "source": [
    "discrete_test.add_variant_data('A', die_A_rolls)\n",
    "discrete_test.add_variant_data('B', die_B_rolls)\n",
    "discrete_test.add_variant_data('C', die_C_rolls)"
   ]
  },
  {
   "cell_type": "code",
   "execution_count": 6,
   "id": "a3ee97a1-d48c-407b-b13c-5cfb11e6591f",
   "metadata": {
    "tags": []
   },
   "outputs": [
    {
     "data": {
      "text/plain": [
       "{'A': {'concentration': [170.0, 188.0, 159.0, 161.0, 168.0, 154.0],\n",
       "  'prior': [1, 1, 1, 1, 1, 1]},\n",
       " 'B': {'concentration': [243.0, 240.0, 129.0, 124.0, 254.0, 210.0],\n",
       "  'prior': [1, 1, 1, 1, 1, 1]},\n",
       " 'C': {'concentration': [93.0, 53.0, 50.0, 100.0, 105.0, 99.0],\n",
       "  'prior': [1, 1, 1, 1, 1, 1]}}"
      ]
     },
     "execution_count": 6,
     "metadata": {},
     "output_type": "execute_result"
    }
   ],
   "source": [
    "discrete_test.data"
   ]
  },
  {
   "cell_type": "code",
   "execution_count": 7,
   "id": "23484578-dc84-4325-9aa0-7a1498ee161b",
   "metadata": {
    "tags": []
   },
   "outputs": [
    {
     "data": {
      "text/plain": [
       "{'A': 0.0006, 'B': 0.00115, 'C': 0.99825}"
      ]
     },
     "execution_count": 7,
     "metadata": {},
     "output_type": "execute_result"
    }
   ],
   "source": [
    "discrete_test.probabs_of_being_best(sim_count = 20000, seed=52)"
   ]
  },
  {
   "cell_type": "code",
   "execution_count": 8,
   "id": "7001814b-7705-420a-813d-b65393e68288",
   "metadata": {
    "tags": []
   },
   "outputs": [
    {
     "data": {
      "text/plain": [
       "{'A': 0.3012179, 'B': 0.2862335, 'C': 6.09e-05}"
      ]
     },
     "execution_count": 8,
     "metadata": {},
     "output_type": "execute_result"
    }
   ],
   "source": [
    "discrete_test.expected_loss(sim_count = 20000, seed=52)"
   ]
  },
  {
   "cell_type": "code",
   "execution_count": 9,
   "id": "86cb2b3b-cc93-489f-ae1d-7becac229c33",
   "metadata": {
    "tags": []
   },
   "outputs": [
    {
     "name": "stdout",
     "output_type": "stream",
     "text": [
      "+-----------+--------------------------------------------------------------+-----------------+------------------+-------------------+-----------------+------------------------+\n",
      "| variant   | concentration                                                |   average_value |   posterior_mean |   prob_being_best |   expected_loss | credible_interval      |\n",
      "+===========+==============================================================+=================+==================+===================+=================+========================+\n",
      "| A         | {1: 170.0, 2: 188.0, 3: 159.0, 4: 161.0, 5: 168.0, 6: 154.0} |         3.431   |          3.43141 |           0.00065 |        0.301061 | [3.3254478, 3.5351591] |\n",
      "+-----------+--------------------------------------------------------------+-----------------+------------------+-------------------+-----------------+------------------------+\n",
      "| B         | {1: 243.0, 2: 240.0, 3: 129.0, 4: 124.0, 5: 254.0, 6: 210.0} |         3.44667 |          3.44693 |           0.0011  |        0.285589 | [3.3445751, 3.5485946] |\n",
      "+-----------+--------------------------------------------------------------+-----------------+------------------+-------------------+-----------------+------------------------+\n",
      "| C         | {1: 93.0, 2: 53.0, 3: 50.0, 4: 100.0, 5: 105.0, 6: 99.0}     |         3.736   |          3.7332  |           0.99825 |        6.19e-05 | [3.575729, 3.8844363]  |\n",
      "+-----------+--------------------------------------------------------------+-----------------+------------------+-------------------+-----------------+------------------------+\n"
     ]
    }
   ],
   "source": [
    "results = discrete_test.evaluate()\n",
    "print(pd.DataFrame(results).to_markdown(tablefmt=\"grid\", index=False))"
   ]
  },
  {
   "cell_type": "code",
   "execution_count": 10,
   "id": "616e35ba-26d3-4d10-ad65-4dc37e5771a6",
   "metadata": {
    "tags": []
   },
   "outputs": [
    {
     "data": {
      "text/plain": [
       "{'A': 0.5752, 'B': 0.42465, 'C': 0.00015}"
      ]
     },
     "execution_count": 10,
     "metadata": {},
     "output_type": "execute_result"
    },
    {
     "data": {
      "text/plain": [
       "{'A': 0.0233034, 'B': 0.0382878, 'C': 0.3244604}"
      ]
     },
     "execution_count": 10,
     "metadata": {},
     "output_type": "execute_result"
    },
    {
     "name": "stdout",
     "output_type": "stream",
     "text": [
      "+-----------+--------------------------------------------------------------+-----------------+------------------+-------------------+-----------------+------------------------+\n",
      "| variant   | concentration                                                |   average_value |   posterior_mean |   prob_being_best |   expected_loss | credible_interval      |\n",
      "+===========+==============================================================+=================+==================+===================+=================+========================+\n",
      "| A         | {1: 170.0, 2: 188.0, 3: 159.0, 4: 161.0, 5: 168.0, 6: 154.0} |         3.431   |          3.43141 |           0.5783  |       0.0233298 | [3.3252788, 3.5381138] |\n",
      "+-----------+--------------------------------------------------------------+-----------------+------------------+-------------------+-----------------+------------------------+\n",
      "| B         | {1: 243.0, 2: 240.0, 3: 129.0, 4: 124.0, 5: 254.0, 6: 210.0} |         3.44667 |          3.44693 |           0.42165 |       0.0381169 | [3.3426174, 3.5499728] |\n",
      "+-----------+--------------------------------------------------------------+-----------------+------------------+-------------------+-----------------+------------------------+\n",
      "| C         | {1: 93.0, 2: 53.0, 3: 50.0, 4: 100.0, 5: 105.0, 6: 99.0}     |         3.736   |          3.7332  |           5e-05   |       0.325504  | [3.5781064, 3.8875444] |\n",
      "+-----------+--------------------------------------------------------------+-----------------+------------------+-------------------+-----------------+------------------------+\n"
     ]
    }
   ],
   "source": [
    "# reversed test (where minimum is best)\n",
    "discrete_test.probabs_of_being_best(sim_count = 20000, seed=52, min_is_best=True)\n",
    "discrete_test.expected_loss(sim_count = 20000, seed=52, min_is_best=True)\n",
    "results_min = discrete_test.evaluate(min_is_best=True)\n",
    "print(pd.DataFrame(results_min).to_markdown(tablefmt=\"grid\", index=False))"
   ]
  },
  {
   "cell_type": "code",
   "execution_count": null,
   "id": "19b56eb8-143e-47aa-9a22-a2473f91cfa1",
   "metadata": {},
   "outputs": [],
   "source": []
  }
 ],
 "metadata": {
  "kernelspec": {
   "display_name": "Python 3 (ipykernel)",
   "language": "python",
   "name": "python3"
  },
  "language_info": {
   "codemirror_mode": {
    "name": "ipython",
    "version": 3
   },
   "file_extension": ".py",
   "mimetype": "text/x-python",
   "name": "python",
   "nbconvert_exporter": "python",
   "pygments_lexer": "ipython3",
   "version": "3.8.17"
  }
 },
 "nbformat": 4,
 "nbformat_minor": 5
}
