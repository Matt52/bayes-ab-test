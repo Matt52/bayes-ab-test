{
 "cells": [
  {
   "cell_type": "code",
   "execution_count": 1,
   "id": "841c798b-2b1f-4307-a4a3-e6112080d0ba",
   "metadata": {},
   "outputs": [],
   "source": [
    "import numpy as np\n",
    "from bayes_ab_test.experiments import NormalDataTest"
   ]
  },
  {
   "cell_type": "code",
   "execution_count": 39,
   "id": "e72fae85-4ed5-41bd-99b2-59f4e40ca31f",
   "metadata": {},
   "outputs": [
    {
     "data": {
      "text/plain": [
       "[{'variant': 'A',\n",
       "  'totals': 1000,\n",
       "  'sum_values': 7294.67901,\n",
       "  'avg_values': 7.29468,\n",
       "  'prob_being_best': 0.1707},\n",
       " {'variant': 'B',\n",
       "  'totals': 800,\n",
       "  'sum_values': 5685.86168,\n",
       "  'avg_values': 7.10733,\n",
       "  'prob_being_best': 0.00125},\n",
       " {'variant': 'C',\n",
       "  'totals': 500,\n",
       "  'sum_values': 3736.91581,\n",
       "  'avg_values': 7.47383,\n",
       "  'prob_being_best': 0.82805}]"
      ]
     },
     "execution_count": 39,
     "metadata": {},
     "output_type": "execute_result"
    }
   ],
   "source": [
    "import numpy as np\n",
    "from bayes_ab_test.experiments import NormalDataTest\n",
    "\n",
    "# generating some random data\n",
    "rng = np.random.default_rng(21)\n",
    "data_a = rng.normal(7.2, 2, 1000)\n",
    "data_b = rng.normal(7.1, 2, 800)\n",
    "data_c = rng.normal(7.0, 4, 500)\n",
    "\n",
    "# initialize a test\n",
    "test = NormalDataTest()\n",
    "\n",
    "# add variant using raw data:\n",
    "test.add_variant_data(\"A\", data_a)\n",
    "test.add_variant_data(\"B\", data_b)\n",
    "# test.add_variant_data(\"C\", data_c)\n",
    "\n",
    "# add variant using aggregated data:\n",
    "test.add_variant_data_agg(\"C\", len(data_c), sum(data_c), sum(np.square(data_c)))\n",
    "\n",
    "# evaluate test\n",
    "test.evaluate(sim_count=20000, seed=52)"
   ]
  },
  {
   "cell_type": "code",
   "execution_count": 40,
   "id": "87082e0d-eb88-4159-831e-a67cdf973f24",
   "metadata": {},
   "outputs": [
    {
     "data": {
      "text/plain": [
       "[{'variant': 'A',\n",
       "  'totals': 20,\n",
       "  'positives': 8,\n",
       "  'sum_values': 23.5,\n",
       "  'avg_values': 1.175,\n",
       "  'avg_positive_values': 2.9375,\n",
       "  'prob_being_best': 0.18915},\n",
       " {'variant': 'B',\n",
       "  'totals': 20,\n",
       "  'positives': 6,\n",
       "  'sum_values': 61.7,\n",
       "  'avg_values': 3.085,\n",
       "  'avg_positive_values': 10.28333,\n",
       "  'prob_being_best': 0.81085}]"
      ]
     },
     "execution_count": 40,
     "metadata": {},
     "output_type": "execute_result"
    }
   ],
   "source": [
    "import numpy as np\n",
    "from bayes_ab_test.experiments import DeltaLognormalDataTest\n",
    "\n",
    "test = DeltaLognormalDataTest()\n",
    "\n",
    "# some input data\n",
    "data_a = [7.1, 0.3, 5.9, 0, 1.3, 0.3, 0, 0, 0, 0, 0, 1.5, 2.2, 0, 4.9, 0, 0, 0, 0, 0]\n",
    "data_b = [4.0, 0, 3.3, 19.3, 18.5, 0, 0, 0, 12.9, 0, 0, 0, 0, 0, 0, 0, 0, 3.7, 0, 0]\n",
    "\n",
    "# adding variant using raw data\n",
    "test.add_variant_data(\"A\", data_a)\n",
    "\n",
    "# alternatively, variant can be also added using aggregated data:\n",
    "test.add_variant_data_agg(\n",
    "    name=\"B\",\n",
    "    totals=len(data_b),\n",
    "    positives=sum(x > 0 for x in data_b),\n",
    "    sum_values=sum(data_b),\n",
    "    sum_logs=sum([np.log(x) for x in data_b if x > 0]),\n",
    "    sum_logs_2=sum([np.square(np.log(x)) for x in data_b if x > 0])\n",
    ")\n",
    "\n",
    "test.evaluate(seed=21)"
   ]
  },
  {
   "cell_type": "code",
   "execution_count": null,
   "id": "aae8408d-20b8-4a7c-bad4-8b494934a20b",
   "metadata": {},
   "outputs": [],
   "source": []
  }
 ],
 "metadata": {
  "kernelspec": {
   "display_name": "Python 3 (ipykernel)",
   "language": "python",
   "name": "python3"
  },
  "language_info": {
   "codemirror_mode": {
    "name": "ipython",
    "version": 3
   },
   "file_extension": ".py",
   "mimetype": "text/x-python",
   "name": "python",
   "nbconvert_exporter": "python",
   "pygments_lexer": "ipython3",
   "version": "3.8.5"
  }
 },
 "nbformat": 4,
 "nbformat_minor": 5
}
